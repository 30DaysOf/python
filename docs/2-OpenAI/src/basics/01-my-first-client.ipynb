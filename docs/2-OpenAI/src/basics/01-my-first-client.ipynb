{
 "cells": [
  {
   "cell_type": "markdown",
   "metadata": {},
   "source": [
    "# My First OpenAI Client\n",
    "\n",
    "Follows the [Developer Quickstart](https://platform.openai.com/docs/quickstart/developer-quickstart) guidance by\n",
    "\n",
    "- Creating an OpenAI project\n",
    "- Creating an Open AI project key from the dashboard\n",
    "- Storing that key in the OPENAI_API_KEY environment variable \n",
    "- Referencing the key in the first call made below.\n",
    "\n",
    "---"
   ]
  },
  {
   "cell_type": "markdown",
   "metadata": {},
   "source": [
    "## 1. Create OpenAI Key, set local env variable"
   ]
  },
  {
   "cell_type": "code",
   "execution_count": 2,
   "metadata": {},
   "outputs": [],
   "source": [
    "# Make sure a valid OPENAI_API_KEY exists\n",
    "import os\n",
    "from dotenv import load_dotenv\n",
    "load_dotenv()\n",
    "\n",
    "openai_api_key = os.getenv('OPENAI_API_KEY')\n",
    "if openai_api_key is None:\n",
    "    raise ValueError(\"OPENAI_API_KEY is not set in .env file\")"
   ]
  },
  {
   "cell_type": "markdown",
   "metadata": {},
   "source": [
    "## 2. Create OpenAI Client"
   ]
  },
  {
   "cell_type": "code",
   "execution_count": 4,
   "metadata": {},
   "outputs": [],
   "source": [
    "# Create an openai client using the API key (expects OPENAI_API_KEY to be set)\n",
    "from openai import OpenAI\n",
    "client = OpenAI()\n"
   ]
  },
  {
   "cell_type": "markdown",
   "metadata": {},
   "source": [
    "## 3. Use Chat Endpoint, Generate Text "
   ]
  },
  {
   "cell_type": "code",
   "execution_count": null,
   "metadata": {},
   "outputs": [],
   "source": [
    "# Create a completion using the chat endpoint\n",
    "completion = client.chat.completions.create(\n",
    "    model=\"gpt-4o-mini\",\n",
    "    messages=[\n",
    "        {\n",
    "            \"role\": \"system\", \n",
    "            \"content\": \"You are a helpful assistant.\"\n",
    "        },\n",
    "        {\n",
    "            \"role\": \"user\",\n",
    "            \"content\": \"Write a haiku about recursion in programming.\"\n",
    "        }\n",
    "    ]\n",
    ")\n",
    "\n",
    "# Print the response\n",
    "print(completion.choices[0].message)"
   ]
  },
  {
   "cell_type": "markdown",
   "metadata": {},
   "source": [
    "## 4. Use Images Endpoint, Generate Image"
   ]
  },
  {
   "cell_type": "code",
   "execution_count": null,
   "metadata": {},
   "outputs": [],
   "source": [
    "# Use the images endpoint from openai client to generate images\n",
    "response = client.images.generate(\n",
    "    prompt=\"A cute baby sea otter\",\n",
    "    n=2,\n",
    "    size=\"1024x1024\"\n",
    ")\n",
    "\n",
    "print(response.data[0].url)"
   ]
  },
  {
   "cell_type": "markdown",
   "metadata": {},
   "source": [
    "## 5. Use Embeddings, Generate vector from text"
   ]
  },
  {
   "cell_type": "code",
   "execution_count": null,
   "metadata": {},
   "outputs": [],
   "source": [
    "# Use the embeddings endpoint from openai client to generate embeddings\n",
    "response = client.embeddings.create(\n",
    "    model=\"text-embedding-3-large\",\n",
    "    input=\"The food was delicious and the waiter...\"\n",
    ")\n",
    "\n",
    "print(response)"
   ]
  },
  {
   "cell_type": "markdown",
   "metadata": {},
   "source": [
    "---\n",
    "\n",
    "## Next Steps\n",
    "\n",
    "This notebook validated the basic setup with the default model specified for the task. You can [explore all available models](https://platform.openai.com/docs/models/overview) for more details.\n",
    "\n",
    "We can now use the OpenAI client to explore different API endpoints in more depth. \n",
    "\n",
    "1. [Chat Completions](https://platform.openai.com/docs/guides/chat-completions) - Learn more about generating text responses to natural language prompts\n",
    "1. [Image Generation](https://platform.openai.com/docs/guides/images) - Generate images using our DALL·E model\n",
    "1. [Embeddings](https://platform.openai.com/docs/guides/embeddings) - Create vector representations of text, used for similarity search\n",
    "1. [Text-to-speech](https://platform.openai.com/docs/guides/text-to-speech) - Generate human-like voice recordings with our text-to-speech model\n",
    "1. [Speech-to-text](https://platform.openai.com/docs/guides/speech-to-text) - Create transcriptions of voice recordings with our Whisper model\n",
    "1. [Moderation](https://platform.openai.com/docs/guides/moderation) - Analyze and filter user-created content with our moderation model\n",
    "1. [Fine-tuning](https://platform.openai.com/docs/guides/fine-tuning) - Fine-tune our models with your own data\n",
    "1. [Batch](https://platform.openai.com/docs/guides/batch) - Batch requests for async jobs\n",
    "1. [Swarm](https://github.com/openai/swarm) - Educational framework exploring ergonomic, lightweight multi-agent orchestration 🆕 \n",
    "1. [API Reference](https://platform.openai.com/docs/api-reference) - View the full REST API reference for OpenAI"
   ]
  }
 ],
 "metadata": {
  "kernelspec": {
   "display_name": "Python 3",
   "language": "python",
   "name": "python3"
  },
  "language_info": {
   "codemirror_mode": {
    "name": "ipython",
    "version": 3
   },
   "file_extension": ".py",
   "mimetype": "text/x-python",
   "name": "python",
   "nbconvert_exporter": "python",
   "pygments_lexer": "ipython3",
   "version": "3.12.1"
  }
 },
 "nbformat": 4,
 "nbformat_minor": 2
}
