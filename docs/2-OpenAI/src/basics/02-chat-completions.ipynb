{
 "cells": [
  {
   "cell_type": "markdown",
   "metadata": {},
   "source": [
    "# 02 | Generate Text with Chat Completions API\n",
    "\n",
    "This section contains exercises to get you started with the Chat Completions endpoint which supports **text generation** tasks with natural language and code as two key types of content.\n",
    "\n",
    "Start with Fundamentals:\n",
    "- [Quickstart](https://platform.openai.com/docs/guides/text-generation) \n",
    "- [Choosing a model](https://platform.openai.com/docs/guides/text-generation/quickstart)\n",
    "- [Building prompts](https://platform.openai.com/docs/guides/text-generation/building-prompts) \n",
    "- [Conversations and Context](https://platform.openai.com/docs/guides/text-generation/conversations-and-context)\n",
    "- [Optimizing model outputs](https://platform.openai.com/docs/guides/text-generation/optimizing-model-outputs)\n",
    "- [Understand /v1/chat/completion API](https://platform.openai.com/docs/api-reference/chat)\n",
    "\n",
    "Then explore Deep Dives:\n",
    "- [Explore Prompt Examples](https://platform.openai.com/docs/examples)\n",
    "- [Build a Prompt in Playground](https://platform.openai.com/playground)\n",
    "- [Build a Prompt in Prompty](https://prompty.ai)\n",
    "- [Browse Cookbook Recipes for Chat Completion](https://platform.openai.com/docs/guides/text-generation/https://cookbook.openai.com)\n",
    "- [Generate Structured Data JSON Output](https://platform.openai.com/docs/guides/structured-outputs)\n",
    "\n",
    "\n"
   ]
  },
  {
   "cell_type": "markdown",
   "metadata": {},
   "source": [
    "---\n",
    "\n",
    "## 1. Quickstart\n",
    "\n",
    "Use the Chat Completions API endpoint to generate text output in response to the text input (prompt). The API endpoint can be invoked from commandline (e.g., using CURL) or from any HTTP client (including web apps). The endpoint can also be invoked from code using the `openai` SDK - this is what we focus on here, with the Python SDK v1 as the target."
   ]
  },
  {
   "cell_type": "markdown",
   "metadata": {},
   "source": [
    "### 1.1 Setup"
   ]
  },
  {
   "cell_type": "code",
   "execution_count": 1,
   "metadata": {},
   "outputs": [],
   "source": [
    "# Make sure a valid OPENAI_API_KEY exists\n",
    "import os\n",
    "from dotenv import load_dotenv\n",
    "load_dotenv()\n",
    "\n",
    "openai_api_key = os.getenv('OPENAI_API_KEY')\n",
    "if openai_api_key is None:\n",
    "    raise ValueError(\"OPENAI_API_KEY is not set in .env file\")"
   ]
  },
  {
   "cell_type": "code",
   "execution_count": 2,
   "metadata": {},
   "outputs": [],
   "source": [
    "# Create an openai client using the API key (expects OPENAI_API_KEY to be set)\n",
    "from openai import OpenAI\n",
    "client = OpenAI()"
   ]
  },
  {
   "cell_type": "markdown",
   "metadata": {},
   "source": [
    "### 1.2 Generate Prose"
   ]
  },
  {
   "cell_type": "code",
   "execution_count": null,
   "metadata": {},
   "outputs": [],
   "source": [
    "# Example 1: Use the Chat Completions endpoint to GENERATE PROSE\n",
    "#  Note: Since OpenAI has many chat completion models, we need to specify the model we want to use\n",
    "completion = client.chat.completions.create(\n",
    "    model=\"gpt-4o\",\n",
    "    messages=[\n",
    "        {\"role\": \"system\", \"content\": \"You are a helpful assistant.\"},\n",
    "        {\n",
    "            \"role\": \"user\",\n",
    "            \"content\": \"Write a haiku about recursion in programming.\"\n",
    "        }\n",
    "    ]\n",
    ")\n",
    "\n",
    "# Check that the completion is valid\n",
    "if completion.choices[0].message:\n",
    "    print(completion.choices[0].message.content)\n",
    "else:\n",
    "    print(\"Completion call failed\")"
   ]
  },
  {
   "cell_type": "markdown",
   "metadata": {},
   "source": [
    "### 1.3 Analyze Image"
   ]
  },
  {
   "cell_type": "code",
   "execution_count": null,
   "metadata": {},
   "outputs": [],
   "source": [
    "# Example 2: Use the Chat Completions endpoint to ANALYZE AN IMAGE\n",
    "#   Here the text input contains the instruction (text) with the image link (image_url) \n",
    "#   The model will analyze the image and provide a response as text\n",
    "#   Note that the API still takes text input and returns text output\n",
    "completion = client.chat.completions.create(\n",
    "    model=\"gpt-4o\",\n",
    "    messages=[\n",
    "        {\n",
    "            \"role\": \"user\",\n",
    "            \"content\": [\n",
    "                {\"type\": \"text\", \"text\": \"What's in this image?\"},\n",
    "                {\n",
    "                    \"type\": \"image_url\",\n",
    "                    \"image_url\": {\n",
    "                        \"url\": \"https://upload.wikimedia.org/wikipedia/commons/thumb/d/dd/Gfp-wisconsin-madison-the-nature-boardwalk.jpg/2560px-Gfp-wisconsin-madison-the-nature-boardwalk.jpg\",\n",
    "                    }\n",
    "                },\n",
    "            ],\n",
    "        }\n",
    "    ],\n",
    ")\n",
    "\n",
    "if completion.choices[0].message:\n",
    "    print(completion.choices[0].message.content)\n",
    "else:\n",
    "    print(\"Completion call failed\")\n"
   ]
  },
  {
   "cell_type": "code",
   "execution_count": null,
   "metadata": {},
   "outputs": [],
   "source": [
    "# Let's try this with an image and instruction of our choice to verify our understanding (and validate usage)\n",
    "completion = client.chat.completions.create(\n",
    "    model=\"gpt-4o\",\n",
    "    messages=[\n",
    "        {\n",
    "            \"role\": \"user\",\n",
    "            \"content\": [\n",
    "                {\"type\": \"text\", \"text\": \"What's in this image? Explain using a list of bullet points with insights into both content and color palette. End with a summary of the narrative of image as a whole.\"},\n",
    "                {\n",
    "                    \"type\": \"image_url\",\n",
    "                    \"image_url\": {\n",
    "                        \"url\": \"https://pbs.twimg.com/media/GPZFV4ZWkAA37lS?format=jpg&name=medium\",\n",
    "                    }\n",
    "                },\n",
    "            ],\n",
    "        }\n",
    "    ],\n",
    ")\n",
    "\n",
    "if completion.choices[0].message:\n",
    "    print(completion.choices[0].message.content)\n",
    "else:\n",
    "    print(\"Completion call failed\")"
   ]
  },
  {
   "cell_type": "markdown",
   "metadata": {},
   "source": [
    "### 1.4 Generate JSON Data"
   ]
  },
  {
   "cell_type": "code",
   "execution_count": null,
   "metadata": {},
   "outputs": [],
   "source": [
    "# Example 3: Use the Chat Completions endpoint to VALIDATE JSON DATA\n",
    "completion = client.chat.completions.create(\n",
    "    model=\"gpt-4o-2024-08-06\",\n",
    "    messages=[\n",
    "        {\n",
    "            \"role\": \"system\", \n",
    "            \"content\": \"You extract email addresses into JSON data.\"\n",
    "        },\n",
    "        {\n",
    "            \"role\": \"user\", \n",
    "            \"content\": \"Feeling stuck? Send a message to help@mycompany.com.\"\n",
    "        }\n",
    "    ],\n",
    "    response_format={\n",
    "        \"type\": \"json_schema\",\n",
    "        \"json_schema\": {\n",
    "            \"name\": \"email_schema\",\n",
    "            \"schema\": {\n",
    "                \"type\": \"object\",\n",
    "                \"properties\": {\n",
    "                    \"email\": {\n",
    "                        \"description\": \"The email address that appears in the input\",\n",
    "                        \"type\": \"string\"\n",
    "                    },\n",
    "                    \"additionalProperties\": False\n",
    "                }\n",
    "            }\n",
    "        }\n",
    "    }\n",
    ")\n",
    "\n",
    "\n",
    "if completion.choices[0].message:\n",
    "    print(completion.choices[0].message.content)\n",
    "else:\n",
    "    print(\"Completion call failed\")"
   ]
  },
  {
   "cell_type": "code",
   "execution_count": null,
   "metadata": {},
   "outputs": [],
   "source": [
    "# Let's try this with an image and instruction of our choice to verify our understanding (and validate usage)\n",
    "completion = client.chat.completions.create(\n",
    "    model=\"gpt-4o-2024-08-06\",\n",
    "    messages=[\n",
    "        {\n",
    "            \"role\": \"system\", \n",
    "            \"content\": \"Given an image URL, you analyze it and identify sections of interest. For each section, extract into a list of bullet points the text elements in that image. Add a bullet point explaining the image itself and another bullet point explaining the color palette. When done, return the analysis in JSON format.\"\n",
    "        },\n",
    "        {\n",
    "            \"role\": \"user\", \n",
    "            \"content\": [\n",
    "                {\n",
    "                    \"type\": \"image_url\",\n",
    "                    \"image_url\": {\n",
    "                        \"url\": \"https://pbs.twimg.com/media/GPZFV4ZWkAA37lS?format=jpg&name=medium\",\n",
    "                    }\n",
    "                },\n",
    "            ]\n",
    "        }\n",
    "    ],\n",
    "    response_format={\n",
    "        \"type\": \"json_schema\",\n",
    "        \"json_schema\": {\n",
    "            \"name\": \"visual_schema\",\n",
    "            \"schema\": {\n",
    "                \"type\": \"object\",        \n",
    "                \"additionalProperties\": False,\n",
    "                \"properties\": {\n",
    "                    \"image\": {\n",
    "                        \"type\": \"string\",\n",
    "                        \"description\": \"The URL of the image being analyzed\"\n",
    "                    },\n",
    "                    \"summary\": {\n",
    "                        \"type\": \"string\",\n",
    "                        \"description\": \"The narrative summary of the image as a whole\"\n",
    "                    },\n",
    "                    \"sections\": {\n",
    "                        \"type\": \"array\",\n",
    "                        \"items\": {\n",
    "                            \"type\": \"object\",\n",
    "                            \"additionalProperties\": False,\n",
    "                            \"properties\": {\n",
    "                                \"text\": {\n",
    "                                    \"type\": \"string\",\n",
    "                                    \"description\": \"Text elements in the section\"\n",
    "                                },\n",
    "                                \"color_palette\": {\n",
    "                                    \"type\": \"string\",\n",
    "                                    \"description\": \"Color palette of the section\"\n",
    "                                }\n",
    "                            }\n",
    "                        }\n",
    "                    }\n",
    "                }\n",
    "            }\n",
    "        }\n",
    "    }\n",
    ")\n",
    "\n",
    "\n",
    "if completion.choices[0].message:\n",
    "    print(completion.choices[0].message.content)\n",
    "else:\n",
    "    print(\"Completion call failed\")"
   ]
  },
  {
   "cell_type": "markdown",
   "metadata": {},
   "source": [
    "---\n",
    "\n",
    "## 2. Choosing a Model"
   ]
  },
  {
   "cell_type": "markdown",
   "metadata": {},
   "source": [
    "---\n",
    "\n",
    "## 3. Building Prompts"
   ]
  },
  {
   "cell_type": "markdown",
   "metadata": {},
   "source": [
    "---\n",
    "\n",
    "## 4. Conversations and Context"
   ]
  },
  {
   "cell_type": "markdown",
   "metadata": {},
   "source": [
    "---\n",
    "\n",
    "## 5. Optimizing Model Outputs\n"
   ]
  },
  {
   "cell_type": "markdown",
   "metadata": {},
   "source": [
    "---\n",
    "\n",
    "## 6. Exploring Chat Reference API"
   ]
  },
  {
   "cell_type": "markdown",
   "metadata": {},
   "source": [
    "---\n"
   ]
  }
 ],
 "metadata": {
  "kernelspec": {
   "display_name": "Python 3",
   "language": "python",
   "name": "python3"
  },
  "language_info": {
   "codemirror_mode": {
    "name": "ipython",
    "version": 3
   },
   "file_extension": ".py",
   "mimetype": "text/x-python",
   "name": "python",
   "nbconvert_exporter": "python",
   "pygments_lexer": "ipython3",
   "version": "3.12.1"
  }
 },
 "nbformat": 4,
 "nbformat_minor": 2
}
