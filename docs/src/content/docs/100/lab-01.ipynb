{
 "cells": [
  {
   "cell_type": "markdown",
   "metadata": {},
   "source": [
    "# Python Basics: Lab 01\n",
    "\n",
    "Exercises will cover basic Python syntax, data structures, and functions. Open the Outline view in Visual Studio Code to see the syllabus at a glance. Each exercise should take under 5 minutes to complete. Useful resources for reference include:\n",
    "\n",
    "1. [Kaggle Python Course](https://www.kaggle.com/learn/python) - short, task-driven\n",
    "1. [Foundations of Python Programming](https://runestone.academy/ns/books/published/fopp/index.html) - long, detail-driven\n",
    "1. [Learn Python The Hard Way](https://learnpythonthehardway.org/python3/) - online, exercises-driven"
   ]
  },
  {
   "cell_type": "markdown",
   "metadata": {},
   "source": []
  }
 ],
 "metadata": {
  "language_info": {
   "name": "python"
  }
 },
 "nbformat": 4,
 "nbformat_minor": 2
}
