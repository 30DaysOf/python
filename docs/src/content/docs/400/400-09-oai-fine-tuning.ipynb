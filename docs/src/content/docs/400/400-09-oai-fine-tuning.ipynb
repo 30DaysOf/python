{
 "cells": [
  {
   "cell_type": "markdown",
   "metadata": {},
   "source": [
    "# 400.9 | Fine Tuning LLM on OpenAI\n",
    "\n",
    "Notes and exercises based on the [Fine-tuning](https://platform.openai.com/docs/guides/fine-tuning) guidance from Open AI documentation. Please reference that link directly for the latest updates. My goal here is to create a sandbox where I can explore these ideas and build my own intuition interactively."
   ]
  },
  {
   "cell_type": "markdown",
   "metadata": {},
   "source": [
    "---\n",
    "\n",
    "### 0. Validate Setup\n",
    "\n",
    "Before you begin working on exercises in this section, make sure you are setup to work with the right LLM Providers by running the relevant code cells from the [LLM Setup](./400-00-llm-setup.ipynb) notebook."
   ]
  }
 ],
 "metadata": {
  "language_info": {
   "name": "python"
  }
 },
 "nbformat": 4,
 "nbformat_minor": 2
}
