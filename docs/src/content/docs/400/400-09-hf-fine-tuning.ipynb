{
 "cells": [
  {
   "cell_type": "markdown",
   "metadata": {},
   "source": [
    "# 400.9 | Fine Tuning on Hugging Face\n",
    "\n",
    "Notes and exercises based on the [Fine Tuning A Pre-Trained Model](https://huggingface.co/docs/transformers/training) tutorial from Hugging Face. Please reference that link directly to build your own notebooks. My goal here is to create a sandbox where I can explore these ideas and build my own intuition interactively.\n",
    "\n",
    "Additional resources I may explore here include:\n",
    "- [Phinetuning 2.0](https://huggingface.co/blog/g-ronimo/phinetuning)\n",
    "- [Hugging Face Cookbook](https://huggingface.co/learn/cookbook/fine_tuning_code_llm_on_single_gpu)\n",
    "- [How to fine-tune LLMs in 2024](https://www.philschmid.de/fine-tune-llms-in-2024-with-trl?WT.mc_id=academic-105485-koreyst)"
   ]
  },
  {
   "cell_type": "markdown",
   "metadata": {},
   "source": [
    "---"
   ]
  },
  {
   "cell_type": "markdown",
   "metadata": {},
   "source": [
    "## 1. How To Fine-Tune LLMs in 2024\n",
    "\n",
    "To follow this tutorial we need to setup the following development enviroment. Check that your dev container (Docker Desktop or GitHub Codespaces) can work with these requirements. **You will ideally need a machine with a GPU architecture and multiple cores**"
   ]
  },
  {
   "cell_type": "code",
   "execution_count": null,
   "metadata": {},
   "outputs": [],
   "source": [
    "# Install Pytorch & other libraries\n",
    "!pip install \"torch==2.1.2\" tensorboard\n",
    "\n",
    "# Install Hugging Face libraries\n",
    "!pip install  --upgrade \\\n",
    "  \"transformers==4.36.2\" \\\n",
    "  \"datasets==2.16.1\" \\\n",
    "  \"accelerate==0.26.1\" \\\n",
    "  \"evaluate==0.4.1\" \\\n",
    "  \"bitsandbytes==0.42.0\" \\\n",
    "  # \"trl==0.7.10\" # \\\n",
    "  # \"peft==0.7.1\" \\\n",
    "\n",
    "# install peft & trl from github\n",
    "!pip install git+https://github.com/huggingface/trl@a3c5b7178ac4f65569975efadc97db2f3749c65e --upgrade\n",
    "!pip install git+https://github.com/huggingface/peft@4a1559582281fc3c9283892caea8ccef1d6f5a4f --upgrade"
   ]
  }
 ],
 "metadata": {
  "kernelspec": {
   "display_name": "Python 3",
   "language": "python",
   "name": "python3"
  },
  "language_info": {
   "codemirror_mode": {
    "name": "ipython",
    "version": 3
   },
   "file_extension": ".py",
   "mimetype": "text/x-python",
   "name": "python",
   "nbconvert_exporter": "python",
   "pygments_lexer": "ipython3",
   "version": "3.10.13"
  }
 },
 "nbformat": 4,
 "nbformat_minor": 2
}
