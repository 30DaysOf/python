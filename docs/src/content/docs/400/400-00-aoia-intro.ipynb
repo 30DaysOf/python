{
 "cells": [
  {
   "cell_type": "markdown",
   "metadata": {},
   "source": [
    "# 400.0 Introduction To Azure Open AI\n",
    "\n",
    "This notebook will introduce [Azure Open AI](https://learn.microsoft.com/en-us/azure/ai-services/openai/) core concepts and provide a basic walkthrough of code-first approaches to using the service from Python. Azure OpenAI is one of the core [Azure AI services](https://learn.microsoft.com/en-us/azure/ai-services/what-are-ai-services) provided by the broader [Azure AI platform](https://ai.azure.com) which focuses on [Azure AI Studio](https://learn.microsoft.com/en-us/azure/ai-studio/what-is-ai-studio?tabs=home) as the unified end-to-end development solution for generative AI apps.\n"
   ]
  },
  {
   "cell_type": "markdown",
   "metadata": {},
   "source": [
    "---\n",
    "\n",
    "## 1. Core Concepts\n",
    "\n",
    "1. **Large Language Model** (LLM) - A large language model is an AI model trained on large datasets of text data from the internet, allowing it to perform natual language processing tasks like question-answering, summarization, translation and more. They are currently used to drive **generative AI ** applications.\n",
    "1. **Generative AI Applications** - These are AI apps that use LLMs to _generate_ human-like content including text, code, images, and audio. Their ability totake natual language input (\"prompts\") makes them a powerful interface for a wide range of applications from chatbots to code completion.\n",
    "These are applications that use large language models to generate human-like text, code, images, and more. They are used in a wide range of applications including chatbots, code completion, and more."
   ]
  },
  {
   "cell_type": "markdown",
   "metadata": {},
   "source": [
    "---\n",
    "\n",
    "## 2. Quickstarts"
   ]
  },
  {
   "cell_type": "markdown",
   "metadata": {},
   "source": [
    "---\n",
    "\n",
    "## 3. Responsible AI"
   ]
  },
  {
   "cell_type": "markdown",
   "metadata": {},
   "source": [
    "---\n",
    "\n",
    "## 4. How Do I .. ?"
   ]
  },
  {
   "cell_type": "markdown",
   "metadata": {},
   "source": [
    "---\n",
    "\n",
    "## 5. Resources"
   ]
  },
  {
   "cell_type": "markdown",
   "metadata": {},
   "source": [
    "---"
   ]
  }
 ],
 "metadata": {
  "language_info": {
   "name": "python"
  }
 },
 "nbformat": 4,
 "nbformat_minor": 2
}
